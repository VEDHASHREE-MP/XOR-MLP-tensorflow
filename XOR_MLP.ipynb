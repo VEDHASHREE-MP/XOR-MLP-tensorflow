{
  "nbformat": 4,
  "nbformat_minor": 0,
  "metadata": {
    "colab": {
      "provenance": []
    },
    "kernelspec": {
      "name": "python3",
      "display_name": "Python 3"
    },
    "language_info": {
      "name": "python"
    }
  },
  "cells": [
    {
      "cell_type": "code",
      "execution_count": null,
      "metadata": {
        "id": "DDeVXKfZu1Jj"
      },
      "outputs": [],
      "source": [
        "import tensorflow as tf\n",
        "import numpy as np\n",
        "\n",
        "# XOR dataset\n",
        "X = np.array([[0,0], [0,1], [1,0], [1,1]], dtype=np.float32)\n",
        "y = np.array([0, 1, 1, 0], dtype=np.float32)\n",
        "\n",
        "# Define MLP model\n",
        "model = tf.keras.Sequential([\n",
        "    tf.keras.layers.Dense(4, activation='relu', input_shape=(2,)),\n",
        "    tf.keras.layers.Dense(1, activation='sigmoid')\n",
        "])\n",
        "\n",
        "# Compile model\n",
        "model.compile(optimizer='adam', loss='binary_crossentropy', metrics=['accuracy'])\n",
        "\n",
        "# Train model\n",
        "model.fit(X, y, epochs=5000, verbose=0)\n",
        "\n",
        "# Evaluate model\n",
        "loss, acc = model.evaluate(X, y, verbose=0)\n",
        "print(f\"Accuracy: {acc:.4f}\")\n",
        "\n",
        "# Predict\n",
        "print(\"Predictions:\", np.round(model.predict(X)))\n"
      ]
    },
    {
      "cell_type": "code",
      "source": [],
      "metadata": {
        "id": "UOhHJkIcxUa_"
      },
      "execution_count": null,
      "outputs": []
    }
  ]
}